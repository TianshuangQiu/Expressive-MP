{
 "cells": [
  {
   "cell_type": "code",
   "execution_count": 1,
   "id": "0470ae97",
   "metadata": {},
   "outputs": [],
   "source": [
    "import pandas as pd\n",
    "import numpy as np\n",
    "import matplotlib.pyplot as plt"
   ]
  },
  {
   "cell_type": "code",
   "execution_count": 21,
   "id": "0841d405",
   "metadata": {},
   "outputs": [],
   "source": [
    "prev_hand_kp = [0, 0]\n",
    "\n",
    "def readfile(n):\n",
    "    if n < 10:\n",
    "        numstring = \"000\" + str(n)\n",
    "    elif n < 100:\n",
    "        numstring = \"00\" + str(n)\n",
    "    elif n < 1000:\n",
    "        numstring = \"0\" + str(n)\n",
    "    else:\n",
    "        numstring = str(n)\n",
    "\n",
    "    filename = \"~/Desktop/Expressive-MP/waypoints/arbor/arbor3_00000000\" + numstring + \"_keypoints.json\"\n",
    "\n",
    "    item = pd.read_json(filename)\n",
    "    return item\n",
    "\n",
    "def extract_angles(shoulder, elbow, wrist, fingertip):\n",
    "    \"\"\"\n",
    "    Given the positions of the shoulder, elbow, wrist, \n",
    "    and fingertip, extract the three desired angles.\n",
    "    \"\"\"\n",
    "    xdiff1 = elbow[0] - shoulder[0]\n",
    "    ydiff1 = elbow[1] - shoulder[1]\n",
    "    theta1 = np.arctan2(ydiff1, xdiff1)\n",
    "    \n",
    "    xdiff2 = wrist[0] - elbow[0]\n",
    "    ydiff2 = wrist[1] - elbow[1]\n",
    "    theta2 = np.arctan2(ydiff2, xdiff2)\n",
    "    \n",
    "    xdiff3 = fingertip[0] - wrist[0]\n",
    "    ydiff3 = fingertip[1] - wrist[1]\n",
    "    theta3 = np.arctan2(ydiff3, xdiff3)\n",
    "\n",
    "    return [theta1, theta2, theta3]\n",
    "\n",
    "def get_hand_kpt(d):\n",
    "    \"\"\"\n",
    "    Hand keypoint detection is extremely noisy, so we do \n",
    "    the best we can and allow for lots of smoothing later.\n",
    "    \"\"\"\n",
    "    global prev_hand_kp\n",
    "    \n",
    "    keypoints = d['hand_right_keypoints_2d']\n",
    "    for i in [12, 16, 8, 20]:\n",
    "        p = keypoints[3 * i: 3 * i + 2]\n",
    "        if p[0] != 0 and p[1] != 0:\n",
    "            prev_hand_kp = p\n",
    "            return p\n",
    "    return prev_hand_kp"
   ]
  },
  {
   "cell_type": "code",
   "execution_count": 22,
   "id": "17f25340",
   "metadata": {},
   "outputs": [],
   "source": [
    "theta_list = []\n",
    "\n",
    "for n in range(1345):\n",
    "    d = readfile(n)[\"people\"][0]\n",
    "    series = d['pose_keypoints_2d']\n",
    "    pt0 = series[0:2]\n",
    "    pt1 = series[3:5]\n",
    "    pt2 = series[6:8]\n",
    "    pt3 = series[9:11]\n",
    "    pt4 = series[12:14]\n",
    "    hand_pt = get_hand_kpt(d)\n",
    "\n",
    "    thetas = extract_angles(pt2, pt3, pt4, hand_pt)\n",
    "    theta_list.append(thetas)\n",
    "\n",
    "tl = np.array(theta_list)"
   ]
  },
  {
   "cell_type": "code",
   "execution_count": 23,
   "id": "1558554c",
   "metadata": {},
   "outputs": [],
   "source": [
    "tl[tl < 0] = tl[tl < 0] + 2 * np.pi\n",
    "kernel = np.array([1, 2, 4, 6, 10, 6, 4, 2, 1])\n",
    "#kernel = np.ones(9)\n",
    "kernel = kernel / np.sum(kernel)\n",
    "\n",
    "smoothed_thetas = np.vstack([np.convolve(tl[:, 0], kernel, mode='same'), \n",
    "                             np.convolve(tl[:, 1], kernel, mode='same'), \n",
    "                             np.convolve(tl[:, 2], kernel, mode='same')])\n",
    "\n",
    "data = smoothed_thetas[:, 150:560] - np.pi / 2\n",
    "t = np.arange(len(data[0])) / 25"
   ]
  },
  {
   "cell_type": "code",
   "execution_count": 33,
   "id": "1d628da6",
   "metadata": {},
   "outputs": [
    {
     "data": {
      "text/plain": [
       "[<matplotlib.lines.Line2D at 0x11ed53130>]"
      ]
     },
     "execution_count": 33,
     "metadata": {},
     "output_type": "execute_result"
    },
    {
     "data": {
      "image/png": "[encoded data removed]",
      "text/plain": [
       "<Figure size 432x288 with 1 Axes>"
      ]
     },
     "metadata": {
      "needs_background": "light"
     },
     "output_type": "display_data"
    }
   ],
   "source": [
    "plt.plot(np.arange(len(data[2])), data[2])"
   ]
  },
  {
   "cell_type": "code",
   "execution_count": 10,
   "id": "a29742d4",
   "metadata": {},
   "outputs": [],
   "source": [
    "output = np.vstack([t, np.zeros_like(t), data[0], data[1] - data, np.zeros_like(t), data[2], np.zeros_like(t)]).T\n",
    "output = np.round_(output, decimals=5)\n",
    "\n",
    "np.savetxt(\"dance.dat\", output, fmt=\"%10.5f\", delimiter='\\t')"
   ]
  },
  {
   "cell_type": "code",
   "execution_count": null,
   "id": "44b09bb4",
   "metadata": {},
   "outputs": [],
   "source": []
  }
 ],
 "metadata": {
  "kernelspec": {
   "display_name": "Python 3 (ipykernel)",
   "language": "python",
   "name": "python3"
  },
  "language_info": {
   "codemirror_mode": {
    "name": "ipython",
    "version": 3
   },
   "file_extension": ".py",
   "mimetype": "text/x-python",
   "name": "python",
   "nbconvert_exporter": "python",
   "pygments_lexer": "ipython3",
   "version": "3.9.7"
  }
 },
 "nbformat": 4,
 "nbformat_minor": 5
}
